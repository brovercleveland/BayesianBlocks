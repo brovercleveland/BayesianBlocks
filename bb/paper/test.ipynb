{
 "cells": [
  {
   "cell_type": "code",
   "execution_count": 1,
   "metadata": {
    "collapsed": true
   },
   "outputs": [],
   "source": [
    "import numpy as np\n",
    "from histogram_plus import hist\n",
    "\n",
    "%matplotlib inline\n",
    "plt.rcParams['figure.figsize'] = (12,8)"
   ]
  },
  {
   "cell_type": "code",
   "execution_count": 5,
   "metadata": {
    "collapsed": true
   },
   "outputs": [],
   "source": [
    "a = np.random.normal(size=1000)\n",
    "b = np.random.normal(3,1,size=200)"
   ]
  },
  {
   "cell_type": "code",
   "execution_count": 23,
   "metadata": {},
   "outputs": [
    {
     "name": "stdout",
     "output_type": "stream",
     "text": [
      "[[  2.   2.   2.  nan  nan  nan  nan  nan  nan  nan]\n",
      " [  2.   2.   2.   2.  nan  nan  nan  nan  nan  nan]]\n"
     ]
    },
    {
     "data": {
      "text/plain": [
       "(array([[  126.,  1434.,   440.,     0.,     0.,     0.,     0.,     0.,\n",
       "             0.,     0.],\n",
       "        [  126.,  1444.,   682.,   148.,     0.,     0.,     0.,     0.,\n",
       "             0.,     0.]]),\n",
       " array([ -4. ,  -1.6,   0.8,   3.2,   5.6,   8. ,  10.4,  12.8,  15.2,\n",
       "         17.6,  20. ]),\n",
       " <a list of 2 Lists of Patches objects>)"
      ]
     },
     "execution_count": 23,
     "metadata": {},
     "output_type": "execute_result"
    },
    {
     "data": {
      "image/png": "[encoded data removed]",
      "text/plain": [
       "<matplotlib.figure.Figure at 0x11200fda0>"
      ]
     },
     "metadata": {},
     "output_type": "display_data"
    }
   ],
   "source": [
    "hist([a,b], bins=10, stacked=True, scale=2, range=(-4, 20))"
   ]
  },
  {
   "cell_type": "code",
   "execution_count": null,
   "metadata": {
    "collapsed": true
   },
   "outputs": [],
   "source": []
  }
 ],
 "metadata": {
  "kernelspec": {
   "display_name": "Python 3",
   "language": "python",
   "name": "python3"
  },
  "language_info": {
   "codemirror_mode": {
    "name": "ipython",
    "version": 3
   },
   "file_extension": ".py",
   "mimetype": "text/x-python",
   "name": "python",
   "nbconvert_exporter": "python",
   "pygments_lexer": "ipython3",
   "version": "3.6.2"
  }
 },
 "nbformat": 4,
 "nbformat_minor": 2
}
