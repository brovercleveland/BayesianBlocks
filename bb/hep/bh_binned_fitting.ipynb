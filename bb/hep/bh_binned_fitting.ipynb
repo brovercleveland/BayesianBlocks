{
 "cells": [
  {
   "cell_type": "code",
   "execution_count": 12,
   "metadata": {
    "collapsed": false
   },
   "outputs": [],
   "source": [
    "from __future__ import division\n",
    "import os\n",
    "import functools\n",
    "import numpy as np\n",
    "import matplotlib.pyplot as plt\n",
    "import cPickle as pkl\n",
    "from bb.tools.hist_tools_modified import hist, poisson_error\n",
    "from bb.tools.bb_plotter import make_fit_plot, make_bb_plot, make_bb_plot_v2, make_hist_ratio_blackhole2\n",
    "from bb.tools.bayesian_blocks_modified import bayesian_blocks\n",
    "import bh_comp as bh_tools\n",
    "import nllfitter.future_fitter as ff\n",
    "from tqdm import tqdm_notebook\n",
    "from scipy.stats import norm\n",
    "import scipy.integrate as integrate\n",
    "from collections import defaultdict\n",
    "from lmfit import Model\n",
    "from ROOT import gRandom, TF1\n",
    "from bb.tools.fill_between_steps import fill_between_steps\n",
    "\n",
    "\n",
    "%matplotlib inline\n",
    "plt.rcParams['figure.figsize'] = (12,8)"
   ]
  },
  {
   "cell_type": "code",
   "execution_count": 105,
   "metadata": {
    "collapsed": false
   },
   "outputs": [
    {
     "name": "stdout",
     "output_type": "stream",
     "text": [
      "Performing fit with initial parameters:\n",
      "alpha\t= -18.081\n",
      "beta\t= -0.082\n",
      "gamma\t= 0.806\n",
      "Fit finished with status: 0\n",
      "Calculating covariance of parameters...\n",
      "\n",
      "\n",
      "RESULTS\n",
      "-------\n",
      "alpha\t= 13.350 +/- 7112.860\n",
      "beta\t= -6.638 +/- 7096.169\n",
      "gamma\t= 1.786 +/- 0.905\n",
      "\n",
      "\n",
      "CORRELATION MATRIX\n",
      "------------------\n",
      "[[ 1.     1.     0.991]\n",
      " [ 1.     1.     0.99 ]\n",
      " [ 0.991  0.99   1.   ]]\n",
      "\n",
      "\n",
      "[  2800.      2931.765   3376.502   3899.849   5333.289  13000.   ]\n"
     ]
    }
   ],
   "source": [
    "bb_dir  = os.path.join(os.path.dirname(bh_tools.__file__), '../..')\n",
    "df_data_mul2 = pkl.load(open(bb_dir+'/files/BH/BH_test_data.p', 'rb'))\n",
    "data_bg_mul2 = df_data_mul2[df_data_mul2.ST_mul2_BB >= 2800].ST_mul2_BB.values\n",
    "\n",
    "df_data_mul8 = pkl.load(open(bb_dir+'/files/BH/BH_paper_data.p', 'rb'))\n",
    "data_bg_mul8 = df_data_mul8[df_data_mul8.ST_mul8_BB >= 2800].ST_mul8_BB.values\n",
    "\n",
    "bg_result, n_bg, be_bg = bh_tools.generate_initial_params(data_bg_mul2, data_bg_mul8)\n",
    "sig_params = (8000,1000)\n",
    "n_sig = 15\n",
    "gRandom.SetSeed(20)\n",
    "\n",
    "sig_pdf_ROOT = functools.partial(bh_tools.sig_pdf, doROOT=True)\n",
    "tf1_sig_pdf = TF1(\"tf1_sig_pdf\", sig_pdf_ROOT, 2800, 13000, 2)\n",
    "tf1_sig_pdf.SetParameters(*sig_params)\n",
    "\n",
    "mc_sig = [tf1_sig_pdf.GetRandom() for i in xrange(n_sig)]\n",
    "mc_bg = bh_tools.generate_toy_data(bg_result.x, n_bg)\n",
    "\n",
    "#be_sig = bayesian_blocks(mc_sig, p0=0.02)\n",
    "#print be_sig\n",
    "#be_bg = np.concatenate([be_bg[be_bg < be_sig[0]-1.5], be_sig, be_bg[be_bg > be_sig[-1]+1.5]])\n",
    "be_bg = np.linspace(2800,13000,53)\n",
    "\n",
    "true_bg_bc_bb  = []\n",
    "true_sig_bc_bb = []\n",
    "\n",
    "for i in range(len(be_bg)-1):\n",
    "    true_bg, _   = integrate.quad(functools.partial(bh_tools.bg_pdf, a=bg_result.x), be_bg[i], be_bg[i+1])\n",
    "    true_bg_bc_bb.append(true_bg)\n",
    "        \n",
    "    true_sig, _  = integrate.quad(functools.partial(bh_tools.sig_pdf, a=sig_params), be_bg[i], be_bg[i+1])\n",
    "    true_sig_bc_bb.append(true_sig)"
   ]
  },
  {
   "cell_type": "code",
   "execution_count": 106,
   "metadata": {
    "collapsed": false
   },
   "outputs": [],
   "source": [
    "lm_binned_bb = bh_tools.lm_binned_wrapper(np.asarray(true_bg_bc_bb), np.asarray(true_sig_bc_bb))\n",
    "binned_model_bb = Model(lm_binned_bb)\n",
    "binned_params_bb = binned_model_bb.make_params()\n",
    "binned_params_bb['ntot'].value   = n_bg+n_sig\n",
    "binned_params_bb['ntot'].vary    = False\n",
    "binned_params_bb['A'].value      = 0.001\n",
    "binned_params_bb['A'].min        = 0\n",
    "binned_params_bb['A'].max        = 1"
   ]
  },
  {
   "cell_type": "code",
   "execution_count": 115,
   "metadata": {
    "collapsed": false
   },
   "outputs": [
    {
     "name": "stdout",
     "output_type": "stream",
     "text": [
      "[ 8.9    7.047  6.376  5.075  3.791  3.562  3.     2.618  1.     2.618  1.\n",
      "  1.     1.     1.     1.     1.     1.     2.618  1.     1.     1.     1.\n",
      "  1.     1.     2.618  1.     2.618  2.618  3.303  2.618  1.     2.618\n",
      "  3.303  1.     2.618  3.     1.     1.     1.     1.     1.     1.     1.\n",
      "  1.     1.     1.     1.     1.     1.     1.     1.     1.   ]\n",
      "[[Model]]\n",
      "    Model(lm_binned)\n",
      "[[Fit Statistics]]\n",
      "    # function evals   = 16\n",
      "    # data points      = 52\n",
      "    # variables        = 1\n",
      "    chi-square         = 6.092\n",
      "    reduced chi-square = 0.119\n",
      "    Akaike info crit   = -108.491\n",
      "    Bayesian info crit = -106.539\n",
      "[[Variables]]\n",
      "    A:      0.03213287 +/- 0.012785 (39.79%) (init= 0.001)\n",
      "    ntot:   151 (fixed)\n",
      "[[Correlations]] (unreported correlations are <  0.100)\n",
      "\n"
     ]
    }
   ],
   "source": [
    "bc, _ = np.histogram(mc_bg+mc_sig, be_bg, range=(2800, 13000))\n",
    "ibc = np.asarray(range(len(bc)))\n",
    "#print bc\n",
    "weights = np.asarray([sqrt(poisson_error(i)[1]) for i in bc])+1\n",
    "print weights\n",
    "#result = binned_model_bb.fit(bc, ix=ibc, params=binned_params_bb)\n",
    "result = binned_model_bb.fit(bc, ix=ibc, weights=1./weights, params=binned_params_bb)\n",
    "bg_frac_bc = np.asarray(true_bg_bc_bb)*n_bg*(1-result.params['A'].value)\n",
    "sig_frac_bc = np.asarray(true_sig_bc_bb)*n_bg*(result.params['A'].value)\n",
    "print(result.fit_report())"
   ]
  },
  {
   "cell_type": "code",
   "execution_count": 116,
   "metadata": {
    "collapsed": false
   },
   "outputs": [
    {
     "name": "stdout",
     "output_type": "stream",
     "text": [
      "53\n",
      "52\n"
     ]
    }
   ],
   "source": [
    "print len(be_bg)\n",
    "print len(result.best_fit)"
   ]
  },
  {
   "cell_type": "code",
   "execution_count": 117,
   "metadata": {
    "collapsed": false
   },
   "outputs": [
    {
     "data": {
      "text/plain": [
       "(1e-07, 10000.0)"
      ]
     },
     "execution_count": 117,
     "metadata": {},
     "output_type": "execute_result"
    },
    {
     "data": {
      "image/png": "[encoded data removed]",
      "text/plain": [
       "<matplotlib.figure.Figure at 0x12e76e9d0>"
      ]
     },
     "metadata": {},
     "output_type": "display_data"
    }
   ],
   "source": [
    "fig, ax = plt.subplots()\n",
    "bin_centers = bin_centres = (be_bg[:-1] + be_bg[1:])/2.\n",
    "#bin_widths = be[1:]-be[:-1]\n",
    "ax.plot(bin_centers, bc, 'ko', label='Data')\n",
    "fill_between_steps(ax, be_bg, bg_frac_bc, -2, alpha=0.2, step_where='pre',linewidth=1, color='b', label='BG Template')\n",
    "fill_between_steps(ax, be_bg, sig_frac_bc, -2, alpha=0.2, step_where='pre',linewidth=1, color='r', label='Signal Template')\n",
    "ax.step(be_bg[:-1], result.best_fit, linewidth=3, linestyle='-', color='g', where='post', label='Total Fit')\n",
    "ax.step(be_bg[-2:], result.best_fit[-2:], linewidth=3, linestyle='-', color='g', where='pre')\n",
    "ax.step(be_bg[:-1], result.init_fit, linewidth=3, linestyle='--', color='k', where='post', label='Initial Fit')\n",
    "ax.step(be_bg[-2:], result.init_fit[-2:], linewidth=3, linestyle='--', color='k', where='pre')\n",
    "plt.xlabel('ST (GeV)')\n",
    "plt.ylabel('Events')\n",
    "plt.title('Binned template fit to data with injected signal')\n",
    "plt.legend()\n",
    "\n",
    "plt.yscale('log', nonposy='clip')\n",
    "ax.set_ylim(1e-7,1e4)\n"
   ]
  },
  {
   "cell_type": "code",
   "execution_count": 118,
   "metadata": {
    "collapsed": false
   },
   "outputs": [
    {
     "data": {
      "text/plain": [
       "4.8520636228134011"
      ]
     },
     "execution_count": 118,
     "metadata": {},
     "output_type": "execute_result"
    }
   ],
   "source": [
    "result.params['A'].value*result.params['ntot'].value"
   ]
  },
  {
   "cell_type": "code",
   "execution_count": null,
   "metadata": {
    "collapsed": true
   },
   "outputs": [],
   "source": []
  },
  {
   "cell_type": "code",
   "execution_count": null,
   "metadata": {
    "collapsed": true
   },
   "outputs": [],
   "source": []
  },
  {
   "cell_type": "code",
   "execution_count": null,
   "metadata": {
    "collapsed": true
   },
   "outputs": [],
   "source": []
  }
 ],
 "metadata": {
  "kernelspec": {
   "display_name": "Python 2",
   "language": "python",
   "name": "python2"
  },
  "language_info": {
   "codemirror_mode": {
    "name": "ipython",
    "version": 2
   },
   "file_extension": ".py",
   "mimetype": "text/x-python",
   "name": "python",
   "nbconvert_exporter": "python",
   "pygments_lexer": "ipython2",
   "version": "2.7.13"
  }
 },
 "nbformat": 4,
 "nbformat_minor": 0
}
