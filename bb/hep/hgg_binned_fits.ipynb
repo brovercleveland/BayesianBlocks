{
 "cells": [
  {
   "cell_type": "code",
   "execution_count": 51,
   "metadata": {
    "collapsed": true
   },
   "outputs": [],
   "source": [
    "import matplotlib.pyplot as plt\n",
    "%matplotlib inline\n",
    "plt.rcParams['figure.figsize'] = (12,8)"
   ]
  },
  {
   "cell_type": "code",
   "execution_count": 5,
   "metadata": {
    "collapsed": false,
    "scrolled": false
   },
   "outputs": [
    {
     "name": "stdout",
     "output_type": "stream",
     "text": [
      "Performing fit with initial parameters:\n",
      "a1\t= 0.000\n",
      "a2\t= 0.000\n",
      "a3\t= 0.000\n",
      "Fit finished with status: 0\n",
      "Calculating covariance of parameters...\n",
      "\n",
      "\n",
      "RESULTS\n",
      "-------\n",
      "[-0.957  0.399 -0.126] [ 0.016  0.023  0.024]\n",
      "a1\t= -0.957 +/- 0.016\n",
      "a2\t= 0.399 +/- 0.023\n",
      "a3\t= -0.126 +/- 0.024\n",
      "\n",
      "\n",
      "CORRELATION MATRIX\n",
      "------------------\n",
      "[[ 1.    -0.455  0.133]\n",
      " [-0.455  1.    -0.448]\n",
      " [ 0.133 -0.448  1.   ]]\n",
      "\n",
      "\n",
      "Performing fit with initial parameters:\n",
      "mu\t= 120.000\n",
      "sigma\t= 2.000\n",
      "Fit finished with status: 0\n",
      "Calculating covariance of parameters...\n",
      "\n",
      "\n",
      "RESULTS\n",
      "-------\n",
      "[ 125.772    2.775] [ 0.181  0.128]\n",
      "mu\t= 125.772 +/- 0.181\n",
      "sigma\t= 2.775 +/- 0.128\n",
      "\n",
      "\n",
      "CORRELATION MATRIX\n",
      "------------------\n",
      "[[  1.000e+00   7.046e-06]\n",
      " [  7.046e-06   1.000e+00]]\n",
      "\n",
      "\n",
      "[  617.087  2197.959  1041.91    558.411   817.188   769.291   410.175\n",
      "   512.33    865.314  1535.703   672.466]\n",
      "[  1.488e-15   5.054e-06   2.551e-02   9.929e-01   4.461e+01   1.558e+02\n",
      "   3.129e+01   3.235e+00   1.750e-02   4.259e-10   2.756e-46]\n",
      "[ 619 2164 1031  564  880  906  442  531  853 1561  683]\n",
      "Performing fit with initial parameters:\n",
      "A\t= 0.100\n",
      "ntot\t= 10236.000\n",
      "[  1.831e-03   8.237e-05   9.694e-04   2.487e-03   1.232e-03   1.340e-43\n",
      "   9.971e-05   2.315e-03   2.055e-03   6.961e-06   6.642e-04]\n",
      "[  1.831e-03   8.237e-05   9.694e-04   2.487e-03   1.232e-03   1.340e-43\n",
      "   9.971e-05   2.315e-03   2.055e-03   6.961e-06   6.642e-04]\n",
      "[  1.831e-03   8.237e-05   9.694e-04   2.487e-03   1.232e-03   1.340e-43\n",
      "   9.971e-05   2.315e-03   2.055e-03   6.961e-06   6.642e-04]\n",
      "[  1.831e-03   8.237e-05   9.694e-04   2.487e-03   1.232e-03   1.340e-43\n",
      "   9.971e-05   2.315e-03   2.055e-03   6.961e-06   6.642e-04]\n",
      "[  1.408e-02   1.604e-03   6.785e-03   1.594e-02   4.461e-03   2.765e-06\n",
      "   1.074e-02   1.664e-02   7.352e-03   9.696e-03   1.493e-02]\n",
      "[  1.408e-02   1.604e-03   6.785e-03   1.594e-02   4.461e-03   2.765e-06\n",
      "   1.074e-02   1.664e-02   7.352e-03   9.696e-03   1.493e-02]\n",
      "[  1.408e-02   1.604e-03   6.785e-03   1.594e-02   4.461e-03   2.765e-06\n",
      "   1.074e-02   1.664e-02   7.352e-03   9.696e-03   1.493e-02]\n",
      "[  1.408e-02   1.604e-03   6.785e-03   1.594e-02   4.461e-03   2.765e-06\n",
      "   1.074e-02   1.664e-02   7.352e-03   9.696e-03   1.493e-02]\n",
      "[ 0.016  0.008  0.012  0.016  0.012  0.003  0.018  0.013  0.013  0.007\n",
      "  0.013]\n",
      "[ 0.016  0.008  0.012  0.016  0.012  0.003  0.018  0.013  0.013  0.007\n",
      "  0.013]\n",
      "[ 0.016  0.008  0.012  0.016  0.012  0.003  0.018  0.013  0.013  0.007\n",
      "  0.013]\n",
      "[ 0.016  0.008  0.012  0.016  0.012  0.003  0.018  0.013  0.013  0.007\n",
      "  0.013]\n",
      "[ 0.016  0.006  0.012  0.017  0.011  0.012  0.019  0.014  0.012  0.008\n",
      "  0.014]\n",
      "[ 0.016  0.006  0.012  0.017  0.011  0.012  0.019  0.014  0.012  0.008\n",
      "  0.014]\n",
      "[ 0.016  0.006  0.012  0.017  0.011  0.012  0.019  0.014  0.012  0.008\n",
      "  0.014]\n",
      "[ 0.016  0.006  0.012  0.017  0.011  0.012  0.019  0.014  0.012  0.008\n",
      "  0.014]\n",
      "[ 0.016  0.006  0.011  0.017  0.011  0.013  0.019  0.014  0.012  0.009\n",
      "  0.014]\n",
      "[ 0.016  0.006  0.011  0.017  0.011  0.013  0.019  0.014  0.012  0.009\n",
      "  0.014]\n",
      "[ 0.016  0.006  0.011  0.017  0.011  0.013  0.019  0.014  0.012  0.009\n",
      "  0.014]\n",
      "[ 0.016  0.006  0.011  0.017  0.011  0.013  0.019  0.014  0.012  0.009\n",
      "  0.014]\n",
      "[ 0.016  0.006  0.011  0.017  0.011  0.013  0.019  0.014  0.012  0.009\n",
      "  0.014]\n",
      "[ 0.016  0.006  0.011  0.017  0.011  0.013  0.019  0.014  0.012  0.009\n",
      "  0.014]\n",
      "[ 0.016  0.006  0.011  0.017  0.011  0.013  0.019  0.014  0.012  0.009\n",
      "  0.014]\n",
      "[ 0.016  0.006  0.011  0.017  0.011  0.013  0.019  0.014  0.012  0.009\n",
      "  0.014]\n",
      "[ 0.016  0.006  0.011  0.017  0.011  0.013  0.019  0.014  0.012  0.009\n",
      "  0.014]\n",
      "[ 0.016  0.006  0.011  0.017  0.011  0.013  0.019  0.014  0.012  0.009\n",
      "  0.014]\n",
      "[ 0.016  0.006  0.011  0.017  0.011  0.013  0.019  0.014  0.012  0.009\n",
      "  0.014]\n",
      "[ 0.016  0.006  0.011  0.017  0.011  0.013  0.019  0.014  0.012  0.009\n",
      "  0.014]\n",
      "[ 0.016  0.006  0.011  0.017  0.011  0.013  0.019  0.014  0.012  0.009\n",
      "  0.014]\n",
      "[ 0.016  0.006  0.011  0.017  0.011  0.013  0.019  0.014  0.012  0.009\n",
      "  0.014]\n",
      "Fit finished with status: 0\n",
      "Calculating covariance of parameters...\n",
      "\n",
      "\n",
      "RESULTS\n",
      "-------\n",
      "[  2.115e-02   1.024e+04] [ 0.  0.]\n",
      "A\t= 0.021 +/- 0.000\n",
      "ntot\t= 10236.000 +/- 0.000\n",
      "\n",
      "\n",
      "CORRELATION MATRIX\n",
      "------------------\n",
      "[ 0.  0.]\n",
      "\n",
      "\n"
     ]
    }
   ],
   "source": [
    "run binned_fit_test.py"
   ]
  },
  {
   "cell_type": "code",
   "execution_count": 67,
   "metadata": {
    "collapsed": false
   },
   "outputs": [],
   "source": [
    "result = binned_model.fit(bc, ix = ibc, params = binned_params)"
   ]
  },
  {
   "cell_type": "code",
   "execution_count": 68,
   "metadata": {
    "collapsed": false
   },
   "outputs": [
    {
     "name": "stdout",
     "output_type": "stream",
     "text": [
      "[[Model]]\n",
      "    Model(lm_binned)\n",
      "[[Fit Statistics]]\n",
      "    # function evals   = 14\n",
      "    # data points      = 11\n",
      "    # variables        = 1\n",
      "    chi-square         = 2123.032\n",
      "    reduced chi-square = 212.303\n",
      "    Akaike info crit   = 60.938\n",
      "    Bayesian info crit = 61.336\n",
      "[[Variables]]\n",
      "    A:      0.92513184 +/- 0.092549 (10.00%) (init= 0.1)\n",
      "    ntot:   10236 (fixed)\n",
      "[[Correlations]] (unreported correlations are <  0.100)\n",
      "\n"
     ]
    }
   ],
   "source": [
    "print result.fit_report()"
   ]
  },
  {
   "cell_type": "code",
   "execution_count": 69,
   "metadata": {
    "collapsed": true
   },
   "outputs": [],
   "source": [
    "width = be_hybrid[1:] - be_hybrid[:-1]"
   ]
  },
  {
   "cell_type": "code",
   "execution_count": 85,
   "metadata": {
    "collapsed": false
   },
   "outputs": [
    {
     "data": {
      "text/plain": [
       "<matplotlib.legend.Legend at 0x12bd64a90>"
      ]
     },
     "execution_count": 85,
     "metadata": {},
     "output_type": "execute_result"
    },
    {
     "data": {
      "image/png": "[encoded data removed]",
      "text/plain": [
       "<matplotlib.figure.Figure at 0x12bc36990>"
      ]
     },
     "metadata": {},
     "output_type": "display_data"
    }
   ],
   "source": [
    "plt.bar(be_hybrid[:-1], bc/width, width = width, alpha=0.2, label='data')\n",
    "plt.bar(be_hybrid[:-1], result.best_fit/width, fill=False, linewidth=2, width = width, edgecolor='red', label='fit')\n",
    "plt.bar(be_hybrid[:-1], result.eval(A=0)/width, fill=False, linewidth=2, width = width, edgecolor='green', label='A=0')\n",
    "\n",
    "plt.legend()"
   ]
  },
  {
   "cell_type": "code",
   "execution_count": 89,
   "metadata": {
    "collapsed": true
   },
   "outputs": [],
   "source": [
    "from scipy.stats import poisson\n",
    "import numpy as np"
   ]
  },
  {
   "cell_type": "code",
   "execution_count": 97,
   "metadata": {
    "collapsed": false
   },
   "outputs": [
    {
     "name": "stdout",
     "output_type": "stream",
     "text": [
      "59.9999603027 48.4338729647\n"
     ]
    }
   ],
   "source": [
    "nll_bg = -np.sum(np.log(poisson.pmf(bc,result.eval(A=0))))\n",
    "nll_sig = -np.sum(np.log(poisson.pmf(bc,result.best_fit)))\n",
    "\n",
    "print nll_bg, nll_sig"
   ]
  },
  {
   "cell_type": "code",
   "execution_count": 95,
   "metadata": {
    "collapsed": true
   },
   "outputs": [],
   "source": [
    "q0=2*(nll_bg-nll_sig)"
   ]
  },
  {
   "cell_type": "code",
   "execution_count": 96,
   "metadata": {
    "collapsed": false
   },
   "outputs": [
    {
     "name": "stdout",
     "output_type": "stream",
     "text": [
      "4.80959194484\n"
     ]
    }
   ],
   "source": [
    "print np.sqrt(q0)"
   ]
  },
  {
   "cell_type": "code",
   "execution_count": null,
   "metadata": {
    "collapsed": true
   },
   "outputs": [],
   "source": []
  }
 ],
 "metadata": {
  "kernelspec": {
   "display_name": "Python 2",
   "language": "python",
   "name": "python2"
  },
  "language_info": {
   "codemirror_mode": {
    "name": "ipython",
    "version": 2
   },
   "file_extension": ".py",
   "mimetype": "text/x-python",
   "name": "python",
   "nbconvert_exporter": "python",
   "pygments_lexer": "ipython2",
   "version": "2.7.13"
  }
 },
 "nbformat": 4,
 "nbformat_minor": 0
}
