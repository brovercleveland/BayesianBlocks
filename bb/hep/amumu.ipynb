{
 "cells": [
  {
   "cell_type": "code",
   "execution_count": 2,
   "metadata": {
    "collapsed": false
   },
   "outputs": [],
   "source": [
    "from __future__ import division\n",
    "import os\n",
    "import functools\n",
    "import numpy as np\n",
    "from scipy.stats import norm\n",
    "import matplotlib.pyplot as plt\n",
    "import cPickle as pkl\n",
    "import pandas as pd\n",
    "import bb\n",
    "from bb.tools.hist_tools_modified import hist\n",
    "from bb.tools.bb_plotter import make_fit_plot, make_bb_plot\n",
    "from scipy.stats import poisson\n",
    "\n",
    "%matplotlib inline\n",
    "plt.rcParams['figure.figsize'] = (12,8)\n",
    "matplotlib.rcParams.update({'font.size': 20})"
   ]
  },
  {
   "cell_type": "code",
   "execution_count": 3,
   "metadata": {
    "collapsed": true
   },
   "outputs": [],
   "source": [
    "def calc_local_pvalue(N_bg, std_bg, N_sig, ntoys=1e7):\n",
    "    print ''\n",
    "    print 'Calculating local p-value and significance based on {0} toys...'.format(int(ntoys))\n",
    "    toys    = np.random.normal(N_bg, std_bg, int(ntoys))\n",
    "    pvars   = np.random.poisson(toys)\n",
    "    pval    = pvars[pvars > N_bg + N_sig].size/pvars.size\n",
    "    print 'local p-value = {0}'.format(pval)\n",
    "    print 'local significance = {0:.2f}'.format(np.abs(norm.ppf(pval)))\n",
    "    \n",
    "    return pval"
   ]
  },
  {
   "cell_type": "code",
   "execution_count": 4,
   "metadata": {
    "collapsed": false
   },
   "outputs": [
    {
     "name": "stdout",
     "output_type": "stream",
     "text": [
      "\n",
      "Calculating local p-value and significance based on 1000 toys...\n",
      "local p-value = 0.741\n",
      "local significance = 0.65\n"
     ]
    },
    {
     "data": {
      "text/plain": [
       "0.741"
      ]
     },
     "execution_count": 4,
     "metadata": {},
     "output_type": "execute_result"
    }
   ],
   "source": [
    "calc_local_pvalue(200,2,-10,1000)"
   ]
  },
  {
   "cell_type": "markdown",
   "metadata": {},
   "source": [
    "# Amumu Bayesian Blocks Analysis"
   ]
  },
  {
   "cell_type": "markdown",
   "metadata": {},
   "source": [
    "First, we will look at the 1b1f channel with no modifications."
   ]
  },
  {
   "cell_type": "code",
   "execution_count": 5,
   "metadata": {
    "collapsed": false
   },
   "outputs": [],
   "source": [
    "# Load the channel\n",
    "df = pd.read_csv('../../files/mass_values.dat', header=None, names=['Mass'])\n",
    "bb_dir      = os.path.join(os.path.dirname(bb.__file__), '..')\n",
    "\n",
    "# Assign random noise at the level of 1e-4 GeV to prevent duplicate events\n",
    "np.random.seed(300)\n",
    "df['Mass'] += np.random.normal(0,1e-5,size=len(df))\n",
    "df = df.query('12<=Mass<=70')\n",
    "xlimits=[12, 70]"
   ]
  },
  {
   "cell_type": "code",
   "execution_count": 6,
   "metadata": {
    "collapsed": false
   },
   "outputs": [
    {
     "data": {
      "text/plain": [
       "672"
      ]
     },
     "execution_count": 6,
     "metadata": {},
     "output_type": "execute_result"
    }
   ],
   "source": [
    "len(df)"
   ]
  },
  {
   "cell_type": "code",
   "execution_count": 7,
   "metadata": {
    "collapsed": false
   },
   "outputs": [
    {
     "name": "stderr",
     "output_type": "stream",
     "text": [
      "/Users/brianpollack/Coding/BayesianBlocks/bb/tools/hist_tools_modified.py:80: FutureWarning:\n",
      "\n",
      "elementwise comparison failed; returning scalar instead, but in the future will perform elementwise comparison\n",
      "\n",
      "/Users/brianpollack/Coding/BayesianBlocks/bb/tools/hist_tools_modified.py:84: FutureWarning:\n",
      "\n",
      "elementwise comparison failed; returning scalar instead, but in the future will perform elementwise comparison\n",
      "\n",
      "/Users/brianpollack/Coding/BayesianBlocks/bb/tools/hist_tools_modified.py:86: FutureWarning:\n",
      "\n",
      "elementwise comparison failed; returning scalar instead, but in the future will perform elementwise comparison\n",
      "\n",
      "/Users/brianpollack/Coding/BayesianBlocks/bb/tools/hist_tools_modified.py:88: FutureWarning:\n",
      "\n",
      "elementwise comparison failed; returning scalar instead, but in the future will perform elementwise comparison\n",
      "\n",
      "/Users/brianpollack/Coding/BayesianBlocks/bb/tools/hist_tools_modified.py:90: FutureWarning:\n",
      "\n",
      "elementwise comparison failed; returning scalar instead, but in the future will perform elementwise comparison\n",
      "\n"
     ]
    },
    {
     "data": {
      "image/png": "[encoded data removed]",
      "text/plain": [
       "<matplotlib.figure.Figure at 0x107670e90>"
      ]
     },
     "metadata": {},
     "output_type": "display_data"
    }
   ],
   "source": [
    "bc_data, be_data = make_bb_plot(df.Mass, 0.05, bb_dir+'/plots/', range=xlimits, scale='binwidth',\n",
    "                title='BB binning for Background Distribution (Combined Channels)',\n",
    "               xlabel=r'$M_{\\mu\\mu}$ (GeV)', ylabel='Events/binwidth', save_name='amumu_data_only')"
   ]
  },
  {
   "cell_type": "markdown",
   "metadata": {},
   "source": [
    "The data forms 3 bins.  There is a single bin near the peak position."
   ]
  },
  {
   "cell_type": "code",
   "execution_count": 8,
   "metadata": {
    "collapsed": false
   },
   "outputs": [
    {
     "name": "stdout",
     "output_type": "stream",
     "text": [
      "The bin edges\n",
      "[ 12.02612708  27.39305101  29.62920976  64.68351946  69.98433206]\n"
     ]
    }
   ],
   "source": [
    "print 'The bin edges'\n",
    "print be_data"
   ]
  },
  {
   "cell_type": "markdown",
   "metadata": {},
   "source": [
    "Now we'll make a binned signal model and combine it with the data."
   ]
  },
  {
   "cell_type": "code",
   "execution_count": 9,
   "metadata": {
    "collapsed": true
   },
   "outputs": [],
   "source": [
    "np.random.seed(100)\n",
    "signal_mc = np.random.normal(28.4, 1.18, size=40)"
   ]
  },
  {
   "cell_type": "code",
   "execution_count": 10,
   "metadata": {
    "collapsed": false
   },
   "outputs": [
    {
     "data": {
      "image/png": "[encoded data removed]",
      "text/plain": [
       "<matplotlib.figure.Figure at 0x110a3ed90>"
      ]
     },
     "metadata": {},
     "output_type": "display_data"
    }
   ],
   "source": [
    "bc_sig, be_sig = make_bb_plot(signal_mc, 0.05, bb_dir+'/plots/', range=(min(signal_mc), max(signal_mc)), scale='binwidth',\n",
    "                title='BB binning for Background Distribution',\n",
    "               xlabel=r'$m_{\\mu\\mu}$ (GeV)', ylabel='Events/binwidth', save_name='amumu_signal_mc')"
   ]
  },
  {
   "cell_type": "markdown",
   "metadata": {},
   "source": [
    "That's pretty easy.  Most rerolls of the random mc show either a single bin or two bins.  There are not yet enough signal events here to make a peaked distribution.  We'll combine this with the data to make a hybrid binning."
   ]
  },
  {
   "cell_type": "code",
   "execution_count": 11,
   "metadata": {
    "collapsed": true
   },
   "outputs": [],
   "source": [
    "be_hybrid = np.concatenate([be_data[be_data<be_sig[0]], be_sig, be_data[be_data>be_sig[-1]]])"
   ]
  },
  {
   "cell_type": "code",
   "execution_count": 12,
   "metadata": {
    "collapsed": false
   },
   "outputs": [
    {
     "data": {
      "image/png": "[encoded data removed]",
      "text/plain": [
       "<matplotlib.figure.Figure at 0x110a78190>"
      ]
     },
     "metadata": {},
     "output_type": "display_data"
    }
   ],
   "source": [
    "bc_bg_sig_2GeV, _, _ = hist(df.Mass,29,scale='binwidth', linewidth = 2, label='2 GeV binning', alpha=0.2)\n",
    "bc_bg_sig_bb, _, _ = hist(df.Mass,be_hybrid,scale='binwidth', histtype='step', linewidth = 2, label='hybrid bb binning')\n",
    "#bc_bg_sig, _, _ = hist(df.Mass,be_hybrid, histtype='step', linewidth = 2, label='hybrid bb binning')\n",
    "\n",
    "plt.title('Hybrid BB Binning on Data (Combined Channels)')\n",
    "plt.xlabel('$M_{\\mu\\mu}$ (GeV)')\n",
    "plt.ylabel('Events/bin width')\n",
    "plt.legend()\n",
    "plt.show()"
   ]
  },
  {
   "cell_type": "code",
   "execution_count": 13,
   "metadata": {
    "collapsed": false
   },
   "outputs": [
    {
     "data": {
      "text/plain": [
       "array([  8.31635721,  17.35795949,  11.08424222,  19.4309831 ])"
      ]
     },
     "execution_count": 13,
     "metadata": {},
     "output_type": "execute_result"
    }
   ],
   "source": [
    "bc_bg_sig_bb"
   ]
  },
  {
   "cell_type": "code",
   "execution_count": 14,
   "metadata": {
    "collapsed": false
   },
   "outputs": [
    {
     "data": {
      "text/plain": [
       "array([ 26.33527674,  30.31039836])"
      ]
     },
     "execution_count": 14,
     "metadata": {},
     "output_type": "execute_result"
    }
   ],
   "source": [
    "be_sig"
   ]
  },
  {
   "cell_type": "code",
   "execution_count": null,
   "metadata": {
    "collapsed": true
   },
   "outputs": [],
   "source": []
  },
  {
   "cell_type": "code",
   "execution_count": 15,
   "metadata": {
    "collapsed": false
   },
   "outputs": [
    {
     "name": "stdout",
     "output_type": "stream",
     "text": [
      "region\t\tevents/GeV\n",
      "\n",
      "sideband_low\t8.31635721134\n",
      "sideband_high\t11.0842422167\n",
      "signal\t\t17.3579594876\n"
     ]
    }
   ],
   "source": [
    "print 'region\\t\\tevents/GeV'\n",
    "print\n",
    "print 'sideband_low\\t', bc_bg_sig_bb[0]\n",
    "print 'sideband_high\\t', bc_bg_sig_bb[2]\n",
    "print 'signal\\t\\t', bc_bg_sig_bb[1]"
   ]
  },
  {
   "cell_type": "code",
   "execution_count": 16,
   "metadata": {
    "collapsed": false
   },
   "outputs": [
    {
     "name": "stdout",
     "output_type": "stream",
     "text": [
      "signal region width:\t3.9751216178\n",
      "expected # events(low):\t33.0585313322\n",
      "expected # events (hi):\t44.0612108527\n",
      "observed # events:\t69.0\n"
     ]
    }
   ],
   "source": [
    "sig_region_width = be_sig[1]-be_sig[0]\n",
    "expected_evts_per_GeV_low = bc_bg_sig_bb[0]\n",
    "expected_evts_per_GeV_hi = bc_bg_sig_bb[2]\n",
    "\n",
    "expected_bg_low = sig_region_width*expected_evts_per_GeV_low\n",
    "expected_bg_hi = sig_region_width*expected_evts_per_GeV_hi\n",
    "observed_evts = sig_region_width*bc_bg_sig_bb[1]\n",
    "\n",
    "print 'signal region width:\\t', sig_region_width\n",
    "print 'expected # events(low):\\t', expected_bg_low\n",
    "print 'expected # events (hi):\\t', expected_bg_hi\n",
    "print 'observed # events:\\t', observed_evts\n"
   ]
  },
  {
   "cell_type": "code",
   "execution_count": null,
   "metadata": {
    "collapsed": false
   },
   "outputs": [],
   "source": []
  },
  {
   "cell_type": "code",
   "execution_count": 21,
   "metadata": {
    "collapsed": true
   },
   "outputs": [],
   "source": [
    "observed_evts = 68"
   ]
  },
  {
   "cell_type": "code",
   "execution_count": 22,
   "metadata": {
    "collapsed": false
   },
   "outputs": [
    {
     "name": "stdout",
     "output_type": "stream",
     "text": [
      "\tp_val\t\tz-score\n",
      "low bg\t3.26e-08 \t5.4\n",
      "hi bg\t0.000307 \t3.43\n"
     ]
    }
   ],
   "source": [
    "p_val_low = 1-poisson.cdf(observed_evts, expected_bg_low)\n",
    "z_low = np.abs(norm.ppf(p_val_low))\n",
    "\n",
    "p_val_hi = 1-poisson.cdf(observed_evts, expected_bg_hi)\n",
    "z_hi = np.abs(norm.ppf(p_val_hi))\n",
    "\n",
    "print '\\tp_val\\t\\tz-score'\n",
    "print 'low bg\\t', '{0:.3}'.format(p_val_low), '\\t{0:.3}'.format(z_low)\n",
    "print 'hi bg\\t', '{0:.3}'.format(p_val_hi), '\\t{0:.3}'.format(z_hi)\n"
   ]
  },
  {
   "cell_type": "code",
   "execution_count": 79,
   "metadata": {
    "collapsed": false
   },
   "outputs": [
    {
     "name": "stdout",
     "output_type": "stream",
     "text": [
      "err sideband_low, % err\t10.9087121146 0.0916698497028\n",
      "err sideband_high,% err\t19.5192212959 0.0512315519579\n",
      "ave percent error\t0.0714507008303\n",
      "err on expected evts\t2.75512981348\n",
      "sqrt of expected evts\t6.20965949891\n"
     ]
    }
   ],
   "source": [
    "err_sb1 = np.sqrt((be_hybrid[1]-be_hybrid[0])*bc_bg_sig_bb[0])\n",
    "err_sb2 = np.sqrt((be_hybrid[3]-be_hybrid[2])*bc_bg_sig_bb[2])\n",
    "err_exp = np.sqrt((0.5**2)*(err_sb1**2)+(0.5**2)*(err_sb2**2))\n",
    "pct_err_sb1 = err_sb1/((be_hybrid[1]-be_hybrid[0])*bc_bg_sig_bb[0])\n",
    "pct_err_sb2 = err_sb2/((be_hybrid[3]-be_hybrid[2])*bc_bg_sig_bb[2])\n",
    "ave_pct_err = (pct_err_sb1+pct_err_sb2)/2\n",
    "print 'err sideband_low, % err\\t', err_sb1, pct_err_sb1\n",
    "print 'err sideband_high,% err\\t', err_sb2, pct_err_sb2\n",
    "print 'ave percent error\\t', ave_pct_err\n",
    "print 'err on expected evts\\t', ave_pct_err*expected_evts\n",
    "print 'sqrt of expected evts\\t', np.sqrt(expected_evts)\n"
   ]
  },
  {
   "cell_type": "code",
   "execution_count": 83,
   "metadata": {
    "collapsed": false
   },
   "outputs": [
    {
     "name": "stdout",
     "output_type": "stream",
     "text": [
      "\n",
      "Calculating local p-value and significance based on 100000000 toys...\n",
      "local p-value = 2.35e-05\n",
      "local significance = 4.07\n"
     ]
    },
    {
     "data": {
      "text/plain": [
       "2.35e-05"
      ]
     },
     "execution_count": 83,
     "metadata": {},
     "output_type": "execute_result"
    }
   ],
   "source": [
    "calc_local_pvalue(expected_evts, ave_pct_err*expected_evts, observed_evts-expected_evts, 1e8)"
   ]
  },
  {
   "cell_type": "code",
   "execution_count": 1,
   "metadata": {
    "collapsed": true
   },
   "outputs": [],
   "source": [
    "from scipy.stats import poisson"
   ]
  },
  {
   "cell_type": "code",
   "execution_count": 4,
   "metadata": {
    "collapsed": true
   },
   "outputs": [],
   "source": [
    "p_cdf = poisson.cdf(69,38)"
   ]
  },
  {
   "cell_type": "code",
   "execution_count": 6,
   "metadata": {
    "collapsed": false
   },
   "outputs": [
    {
     "data": {
      "text/plain": [
       "2.1317547146404436e-06"
      ]
     },
     "execution_count": 6,
     "metadata": {},
     "output_type": "execute_result"
    }
   ],
   "source": [
    "1-p_cdf"
   ]
  },
  {
   "cell_type": "code",
   "execution_count": 9,
   "metadata": {
    "collapsed": false
   },
   "outputs": [
    {
     "data": {
      "text/plain": [
       "4.5981050871756297"
      ]
     },
     "execution_count": 9,
     "metadata": {},
     "output_type": "execute_result"
    }
   ],
   "source": [
    "np.abs(norm.ppf(1-p_cdf))"
   ]
  },
  {
   "cell_type": "code",
   "execution_count": null,
   "metadata": {
    "collapsed": true
   },
   "outputs": [],
   "source": []
  }
 ],
 "metadata": {
  "kernelspec": {
   "display_name": "Python 2",
   "language": "python",
   "name": "python2"
  },
  "language_info": {
   "codemirror_mode": {
    "name": "ipython",
    "version": 2
   },
   "file_extension": ".py",
   "mimetype": "text/x-python",
   "name": "python",
   "nbconvert_exporter": "python",
   "pygments_lexer": "ipython2",
   "version": "2.7.12"
  }
 },
 "nbformat": 4,
 "nbformat_minor": 0
}
